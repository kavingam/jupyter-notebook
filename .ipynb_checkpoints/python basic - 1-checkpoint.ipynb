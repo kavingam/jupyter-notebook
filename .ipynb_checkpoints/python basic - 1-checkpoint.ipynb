{
 "cells": [
  {
   "cell_type": "code",
   "execution_count": 4,
   "id": "806fe4ad",
   "metadata": {},
   "outputs": [
    {
     "name": "stdout",
     "output_type": "stream",
     "text": [
      "3.11.5 | packaged by Anaconda, Inc. | (main, Sep 11 2023, 13:26:23) [MSC v.1916 64 bit (AMD64)]\n"
     ]
    }
   ],
   "source": [
    "\n",
    "# many PCs and macs will have already installed python\n",
    "# to check you have python installed on a windows pc, search in the start bar for python or run the following on the command line (cmd.exe)\n",
    "# python --version\n",
    "\n",
    "#to check the python version of the editor, you can find it by importing sys module:\n",
    "import sys\n",
    "print(sys.version)"
   ]
  },
  {
   "cell_type": "code",
   "execution_count": 7,
   "id": "57919886",
   "metadata": {},
   "outputs": [
    {
     "name": "stdout",
     "output_type": "stream",
     "text": [
      "five is greater than two!\n"
     ]
    }
   ],
   "source": [
    "# python use indentation \n",
    "# python uses indentation to indicate a block of code\n",
    "if 5 > 2 :\n",
    "    print(\"five is greater than two!\")"
   ]
  },
  {
   "cell_type": "code",
   "execution_count": 8,
   "id": "7abea979",
   "metadata": {},
   "outputs": [
    {
     "name": "stdout",
     "output_type": "stream",
     "text": [
      "hello\n"
     ]
    }
   ],
   "source": [
    "# comment can be used exaplain python code\n",
    "# comment can be used to make a code readable\n",
    "# comment can be used to prevent execution when testing code\n",
    "\n",
    "# creating a single comment\n",
    "# comment start with a # , a python will be ignore them example \n",
    "# this is a comment\n",
    "print('hello')\n"
   ]
  },
  {
   "cell_type": "code",
   "execution_count": 9,
   "id": "7bba1742",
   "metadata": {},
   "outputs": [
    {
     "name": "stdout",
     "output_type": "stream",
     "text": [
      "Hello, World\n"
     ]
    }
   ],
   "source": [
    "# multiline comments \n",
    "# python does not really have a syntax for multi line comments.\n",
    "# to add multiline comment you could insert a # for each line:\n",
    "# this is a comment\n",
    "# written in\n",
    "# more than just one line\n",
    "print(\"Hello, World\")"
   ]
  },
  {
   "cell_type": "code",
   "execution_count": 10,
   "id": "f411fc4b",
   "metadata": {},
   "outputs": [
    {
     "name": "stdout",
     "output_type": "stream",
     "text": [
      "Hello, World\n"
     ]
    }
   ],
   "source": [
    "\"\"\"\n",
    "this is a comment\n",
    "written in\n",
    "more than just one line\n",
    "\"\"\"\n",
    "print('Hello, World')"
   ]
  },
  {
   "cell_type": "code",
   "execution_count": null,
   "id": "e906df1c",
   "metadata": {},
   "outputs": [],
   "source": []
  }
 ],
 "metadata": {
  "kernelspec": {
   "display_name": "Python 3 (ipykernel)",
   "language": "python",
   "name": "python3"
  },
  "language_info": {
   "codemirror_mode": {
    "name": "ipython",
    "version": 3
   },
   "file_extension": ".py",
   "mimetype": "text/x-python",
   "name": "python",
   "nbconvert_exporter": "python",
   "pygments_lexer": "ipython3",
   "version": "3.11.5"
  }
 },
 "nbformat": 4,
 "nbformat_minor": 5
}
