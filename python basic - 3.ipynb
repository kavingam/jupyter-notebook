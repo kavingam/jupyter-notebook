{
 "cells": [
  {
   "cell_type": "code",
   "execution_count": null,
   "id": "03e70060",
   "metadata": {},
   "outputs": [],
   "source": [
    "# python variables \n",
    "# a variable can hava a short name like x or y or a more descriptive name, age, carname, total_valume, rules for python variable\n",
    "\n",
    "\"\"\"\n",
    "a variable name must start with a latter or the underscore character\n",
    "variable name can not be start with a number\n",
    "\n",
    "\"\"\""
   ]
  }
 ],
 "metadata": {
  "kernelspec": {
   "display_name": "Python 3 (ipykernel)",
   "language": "python",
   "name": "python3"
  },
  "language_info": {
   "codemirror_mode": {
    "name": "ipython",
    "version": 3
   },
   "file_extension": ".py",
   "mimetype": "text/x-python",
   "name": "python",
   "nbconvert_exporter": "python",
   "pygments_lexer": "ipython3",
   "version": "3.11.5"
  }
 },
 "nbformat": 4,
 "nbformat_minor": 5
}
