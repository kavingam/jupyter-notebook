{
 "cells": [
  {
   "cell_type": "code",
   "execution_count": 18,
   "id": "7c889f19",
   "metadata": {},
   "outputs": [
    {
     "name": "stdout",
     "output_type": "stream",
     "text": [
      "5\n",
      "kavin\n"
     ]
    }
   ],
   "source": [
    "# python variables for storing data value\n",
    "x = 5\n",
    "y = \"kavin\"\n",
    "print(x)\n",
    "print(y)"
   ]
  },
  {
   "cell_type": "code",
   "execution_count": 16,
   "id": "32394de8",
   "metadata": {},
   "outputs": [
    {
     "name": "stdout",
     "output_type": "stream",
     "text": [
      "kavin\n"
     ]
    }
   ],
   "source": [
    "# varible do not need to be declared with any particular type.and change type after they have been set :\n",
    "x = 5\n",
    "x = \"kavin\"\n",
    "print(x)"
   ]
  },
  {
   "cell_type": "code",
   "execution_count": 14,
   "id": "ec5a0a48",
   "metadata": {},
   "outputs": [
    {
     "name": "stdout",
     "output_type": "stream",
     "text": [
      "3.0\n",
      "<class 'float'>\n"
     ]
    }
   ],
   "source": [
    "# if you want to specify the data type of variable, this can be done with casting.\n",
    "x = str(3) # x will be 3\n",
    "y = int(x) # y will be 3\n",
    "z = float(y) # z will be 3.0\n",
    "print(z)\n",
    "print(type(z))\n"
   ]
  },
  {
   "cell_type": "code",
   "execution_count": 7,
   "id": "60762450",
   "metadata": {},
   "outputs": [
    {
     "name": "stdout",
     "output_type": "stream",
     "text": [
      "<class 'str'>\n",
      "<class 'int'>\n"
     ]
    }
   ],
   "source": [
    "# you can get the data type of variable with the type() function\n",
    "x = \"string\"\n",
    "y = 5\n",
    "print(type(x))\n",
    "print(type(y))"
   ]
  },
  {
   "cell_type": "code",
   "execution_count": 17,
   "id": "624d0736",
   "metadata": {},
   "outputs": [
    {
     "name": "stdout",
     "output_type": "stream",
     "text": [
      "kavin\n",
      "kavin\n"
     ]
    }
   ],
   "source": [
    "# string can be declared either by using single or double qoutes:\n",
    "x = \"kavin\"\n",
    "# or\n",
    "y = 'kavin'\n",
    "print(x)\n",
    "print(y)"
   ]
  },
  {
   "cell_type": "code",
   "execution_count": 12,
   "id": "1568648e",
   "metadata": {},
   "outputs": [
    {
     "name": "stdout",
     "output_type": "stream",
     "text": [
      "2\n",
      "3\n"
     ]
    }
   ],
   "source": [
    "# variable name are case sensitive \n",
    "x = 2\n",
    "X = 3\n",
    "# small x will not overwrite a capital X\n",
    "print(x)\n",
    "print(X)\n"
   ]
  },
  {
   "cell_type": "code",
   "execution_count": null,
   "id": "0f787d78",
   "metadata": {},
   "outputs": [],
   "source": []
  }
 ],
 "metadata": {
  "kernelspec": {
   "display_name": "Python 3 (ipykernel)",
   "language": "python",
   "name": "python3"
  },
  "language_info": {
   "codemirror_mode": {
    "name": "ipython",
    "version": 3
   },
   "file_extension": ".py",
   "mimetype": "text/x-python",
   "name": "python",
   "nbconvert_exporter": "python",
   "pygments_lexer": "ipython3",
   "version": "3.11.5"
  }
 },
 "nbformat": 4,
 "nbformat_minor": 5
}
